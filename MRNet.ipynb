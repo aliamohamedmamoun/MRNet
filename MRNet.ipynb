{
  "nbformat": 4,
  "nbformat_minor": 0,
  "metadata": {
    "colab": {
      "name": "MRNet.ipynb",
      "version": "0.3.2",
      "provenance": [],
      "toc_visible": true
    },
    "kernelspec": {
      "name": "python3",
      "display_name": "Python 3"
    },
    "accelerator": "GPU"
  },
  "cells": [
    {
      "cell_type": "code",
      "metadata": {
        "id": "_S8fL5MpVl1B",
        "colab_type": "code",
        "colab": {}
      },
      "source": [
        "#downloading dataset to colab\n",
        "!wget -qq http://download.cs.stanford.edu/deep/MRNet-v1.0.zip -P ./data"
      ],
      "execution_count": 0,
      "outputs": []
    },
    {
      "cell_type": "code",
      "metadata": {
        "id": "Yt0XdQiXZLoP",
        "colab_type": "code",
        "outputId": "1669f90e-07fb-4b1b-ffa8-a1601a5d5702",
        "colab": {
          "base_uri": "https://localhost:8080/",
          "height": 168
        }
      },
      "source": [
        "#unziping\n",
        "!unzip --qq data/MRNet-v1.0.zip -d ./data"
      ],
      "execution_count": 0,
      "outputs": [
        {
          "output_type": "stream",
          "text": [
            "warning [data/MRNet-v1.0.zip]:  4294967296 extra bytes at beginning or within zipfile\n",
            "  (attempting to process anyway)\n",
            "file #1:  bad zipfile offset (local header sig):  4294967296\n",
            "  (attempting to re-compensate)\n",
            "file #2547:  bad zipfile offset (local header sig):  1353202\n",
            "  (attempting to re-compensate)\n"
          ],
          "name": "stdout"
        }
      ]
    },
    {
      "cell_type": "code",
      "metadata": {
        "id": "JaFrenWPwjqG",
        "colab_type": "code",
        "outputId": "66b4fea6-2488-4f82-b328-6dd212840352",
        "colab": {
          "base_uri": "https://localhost:8080/",
          "height": 1020
        }
      },
      "source": [
        "#!pip install -U pydicom"
      ],
      "execution_count": 0,
      "outputs": [
        {
          "output_type": "stream",
          "text": [
            "Collecting pydicom\n",
            "\u001b[?25l  Downloading https://files.pythonhosted.org/packages/43/88/d3c419ab2e753e7651510882a53219373e78fb55294cb247dffd3934ea55/pydicom-1.2.2-py2.py3-none-any.whl (7.0MB)\n",
            "\u001b[K     |████████████████████████████████| 7.0MB 71kB/s \n",
            "\u001b[?25hInstalling collected packages: pydicom\n",
            "Successfully installed pydicom-1.2.2\n"
          ],
          "name": "stdout"
        }
      ]
    },
    {
      "cell_type": "code",
      "metadata": {
        "id": "IgsRtqKALAR5",
        "colab_type": "code",
        "colab": {}
      },
      "source": [
        "import os\n",
        "import numpy as np\n",
        "from matplotlib import pyplot as plt\n",
        "import math"
      ],
      "execution_count": 0,
      "outputs": []
    },
    {
      "cell_type": "code",
      "metadata": {
        "id": "pQZgIc7ZtgmB",
        "colab_type": "code",
        "outputId": "4bc313ed-4efb-4332-a35e-9ade715685b1",
        "colab": {
          "base_uri": "https://localhost:8080/",
          "height": 55
        }
      },
      "source": [
        "#%reset"
      ],
      "execution_count": 0,
      "outputs": [
        {
          "output_type": "stream",
          "text": [
            "Once deleted, variables cannot be recovered. Proceed (y/[n])? y\n"
          ],
          "name": "stdout"
        }
      ]
    },
    {
      "cell_type": "code",
      "metadata": {
        "id": "xvMN_V8lKfA4",
        "colab_type": "code",
        "outputId": "e20063a7-24db-4f2e-ea3a-429ac1fdfca0",
        "colab": {
          "base_uri": "https://localhost:8080/",
          "height": 102
        }
      },
      "source": [
        "\n",
        "\n",
        "#reading axial directory in order\n",
        "axial_dir = os.listdir(\"/content/data/MRNet-v1.0/train/axial/\")\n",
        "axial_dir = [f.lower() for f in axial_dir]   # Convert to lower case\n",
        "a=sorted(axial_dir)\n",
        "axial_list=np.array(a)\n",
        "axial_reloaded=[]\n",
        "\n",
        "\n",
        "print(axial_list.shape)\n",
        "\n",
        "for j in range(1,1131):\n",
        "    file= \"/content/data/MRNet-v1.0/train/axial/\"+axial_list[j]\n",
        "    \n",
        "    axial_reloaded.append(np.load(file,allow_pickle='false'))\n",
        "    \n",
        "#print(axial_reloaded[100].shape)\n",
        "axial_reloaded=np.array(axial_reloaded)\n",
        "\n",
        "print(axial_reloaded.shape)\n",
        "\n",
        "s=axial_reloaded.shape\n",
        "print(axial_reloaded[0].shape[0])\n",
        "#print(s[1])\n",
        "\n",
        "train_axial=[]\n",
        "\n",
        "\n",
        "print(len(axial_reloaded))\n",
        "#just potting the images \n",
        "for j in range(len(axial_reloaded)):\n",
        "    mid=math.floor((axial_reloaded[j].shape[0])/2)\n",
        "    train_axial.append([])\n",
        "    \n",
        "    #genereting training set for axial\n",
        "    for n in range(mid-1,mid+2):\n",
        "         train_axial[j].append(axial_reloaded[j][n])\n",
        "train_axial=np.array(train_axial)\n",
        "\n",
        "train_axial=np.reshape(train_axial,(1130,256,256,3))\n",
        "\n",
        "print(train_axial.shape)\n",
        "\n"
      ],
      "execution_count": 0,
      "outputs": [
        {
          "output_type": "stream",
          "text": [
            "(1131,)\n",
            "(1130,)\n",
            "44\n",
            "1130\n",
            "(1130, 256, 256, 3)\n"
          ],
          "name": "stdout"
        }
      ]
    },
    {
      "cell_type": "code",
      "metadata": {
        "id": "U4pEnRbJ8zbJ",
        "colab_type": "code",
        "outputId": "27c3a431-3049-4a1b-a4f2-8b353f37f5af",
        "colab": {
          "base_uri": "https://localhost:8080/",
          "height": 159
        }
      },
      "source": [
        "import csv\n",
        "\n",
        "with open(\"/content/data/MRNet-v1.0/train-abnormal.csv\") as csv_file:\n",
        "    csv_reader = csv.reader(csv_file)\n",
        "    line_count = 0\n",
        "    trainAb_labels=[]\n",
        "    for row in csv_reader:\n",
        "           trainAb_labels.append(int(row[1]))\n",
        "print(trainAb_labels)\n",
        "trainAb_labels= np.array(trainAb_labels)\n",
        "print(len(trainAb_labels))\n",
        "\n",
        "with open(\"/content/data/MRNet-v1.0/train-acl.csv\") as csv_file:\n",
        "    csv_reader = csv.reader(csv_file)\n",
        "    line_count = 0\n",
        "    trainACL_labels=[]\n",
        "    for row in csv_reader:\n",
        "           trainACL_labels.append(int(row[1]))\n",
        "print(trainAb_labels)\n",
        "trainACL_labels= np.array(trainACL_labels)\n",
        "print(len(trainACL_labels))\n",
        "\n",
        "\n",
        "with open(\"/content/data/MRNet-v1.0/train-meniscus.csv\") as csv_file:\n",
        "    csv_reader = csv.reader(csv_file)\n",
        "    line_count = 0\n",
        "    trainMen_labels=[]\n",
        "    for row in csv_reader:\n",
        "           trainMen_labels.append(int(row[1]))\n",
        "print(trainMen_labels)\n",
        "trainAb_labels= np.array(trainMen_labels)\n",
        "print(len(trainMen_labels))"
      ],
      "execution_count": 0,
      "outputs": [
        {
          "output_type": "stream",
          "text": [
            "[1, 1, 1, 1, 1, 1, 1, 1, 1, 1, 1, 0, 0, 1, 0, 1, 1, 0, 1, 1, 1, 0, 1, 0, 1, 0, 0, 1, 1, 1, 1, 1, 1, 1, 1, 1, 1, 1, 1, 1, 0, 1, 1, 1, 0, 1, 1, 1, 0, 1, 1, 1, 1, 0, 1, 1, 1, 1, 1, 1, 0, 1, 1, 1, 1, 1, 0, 1, 1, 1, 1, 1, 1, 1, 0, 1, 1, 0, 1, 1, 1, 1, 0, 1, 1, 1, 1, 1, 1, 1, 1, 1, 1, 1, 1, 1, 0, 1, 1, 0, 1, 1, 1, 1, 1, 1, 0, 1, 1, 1, 0, 1, 1, 1, 1, 1, 1, 0, 0, 1, 0, 1, 0, 0, 1, 1, 1, 0, 0, 1, 1, 0, 1, 1, 1, 1, 1, 1, 1, 1, 1, 1, 1, 0, 0, 1, 1, 1, 1, 0, 1, 1, 1, 0, 1, 1, 1, 1, 1, 1, 1, 1, 1, 1, 1, 1, 1, 1, 1, 1, 0, 1, 1, 1, 1, 1, 1, 0, 1, 1, 1, 0, 1, 1, 1, 1, 1, 1, 1, 1, 1, 1, 1, 1, 1, 1, 1, 1, 1, 1, 1, 1, 1, 1, 1, 1, 1, 1, 1, 1, 0, 1, 1, 1, 0, 1, 1, 1, 1, 1, 1, 1, 0, 1, 1, 0, 1, 0, 0, 1, 0, 1, 1, 1, 1, 1, 1, 1, 0, 0, 1, 1, 1, 0, 0, 0, 1, 1, 1, 1, 1, 1, 0, 1, 1, 1, 0, 1, 0, 1, 1, 1, 1, 1, 1, 1, 1, 0, 0, 1, 1, 1, 0, 1, 1, 1, 1, 1, 1, 1, 1, 1, 1, 0, 1, 1, 1, 1, 1, 1, 1, 0, 1, 1, 1, 1, 0, 1, 1, 0, 1, 1, 1, 1, 1, 1, 0, 1, 1, 1, 1, 1, 1, 1, 1, 1, 1, 1, 1, 1, 1, 1, 1, 1, 1, 1, 1, 1, 1, 1, 1, 1, 1, 1, 1, 1, 1, 0, 1, 1, 1, 1, 0, 1, 1, 1, 1, 1, 1, 1, 1, 1, 1, 1, 1, 1, 1, 1, 1, 1, 1, 1, 0, 0, 1, 1, 1, 1, 1, 1, 1, 1, 0, 1, 1, 1, 1, 0, 1, 1, 1, 0, 1, 1, 0, 1, 1, 0, 1, 1, 1, 1, 1, 1, 1, 1, 1, 1, 1, 1, 0, 1, 1, 1, 0, 1, 0, 1, 1, 0, 0, 1, 1, 1, 1, 0, 1, 1, 1, 1, 0, 1, 1, 1, 1, 0, 1, 1, 0, 1, 0, 1, 1, 1, 0, 0, 1, 0, 1, 0, 1, 1, 0, 1, 1, 1, 1, 1, 1, 1, 0, 1, 1, 1, 1, 1, 1, 1, 1, 0, 0, 0, 0, 1, 1, 0, 0, 0, 1, 1, 1, 1, 0, 0, 1, 0, 0, 0, 1, 1, 1, 1, 1, 1, 1, 1, 1, 1, 1, 1, 1, 0, 0, 1, 1, 0, 1, 1, 1, 0, 1, 1, 1, 0, 0, 1, 1, 1, 1, 0, 1, 1, 1, 1, 1, 0, 1, 1, 1, 1, 1, 1, 1, 1, 1, 0, 1, 1, 1, 1, 1, 1, 0, 0, 1, 1, 1, 1, 1, 1, 1, 1, 0, 1, 1, 1, 1, 1, 0, 0, 1, 1, 1, 1, 1, 1, 1, 1, 0, 1, 1, 1, 1, 0, 1, 0, 1, 1, 1, 1, 1, 0, 1, 1, 1, 1, 1, 1, 1, 1, 0, 1, 1, 0, 1, 1, 1, 1, 0, 0, 1, 1, 1, 1, 1, 1, 1, 0, 1, 0, 0, 1, 1, 1, 1, 1, 1, 1, 0, 1, 1, 1, 1, 1, 1, 1, 1, 1, 1, 1, 1, 0, 1, 1, 1, 0, 1, 1, 1, 1, 1, 1, 1, 1, 0, 1, 1, 0, 1, 1, 1, 0, 1, 1, 0, 1, 1, 1, 1, 1, 1, 1, 1, 1, 1, 1, 1, 1, 0, 1, 1, 1, 1, 1, 1, 1, 1, 1, 1, 1, 1, 0, 1, 1, 0, 0, 1, 1, 0, 1, 1, 1, 1, 1, 1, 0, 1, 1, 1, 0, 1, 1, 1, 1, 1, 1, 1, 1, 1, 1, 0, 1, 1, 0, 1, 1, 1, 1, 1, 1, 1, 0, 0, 1, 1, 1, 1, 1, 1, 1, 1, 1, 1, 1, 1, 1, 1, 0, 1, 1, 1, 1, 1, 1, 1, 1, 1, 1, 1, 1, 1, 1, 1, 1, 0, 1, 1, 1, 1, 1, 1, 1, 1, 1, 1, 1, 1, 1, 1, 0, 1, 1, 1, 1, 1, 1, 1, 1, 1, 1, 1, 1, 0, 1, 1, 1, 1, 0, 1, 1, 1, 1, 1, 1, 1, 1, 0, 1, 0, 1, 1, 1, 1, 1, 1, 1, 1, 0, 1, 0, 1, 1, 0, 1, 1, 1, 0, 0, 0, 1, 1, 1, 1, 0, 1, 1, 1, 1, 0, 1, 0, 0, 1, 0, 0, 0, 1, 1, 1, 1, 1, 1, 1, 1, 1, 1, 1, 1, 1, 1, 1, 0, 1, 1, 1, 0, 1, 1, 1, 1, 1, 1, 1, 1, 1, 1, 1, 1, 0, 0, 0, 1, 1, 1, 1, 1, 0, 0, 0, 1, 1, 1, 0, 1, 0, 1, 1, 1, 0, 0, 1, 1, 1, 0, 1, 1, 0, 1, 1, 1, 1, 1, 1, 1, 0, 1, 1, 1, 1, 1, 1, 1, 1, 1, 0, 1, 1, 1, 1, 1, 1, 1, 1, 1, 1, 1, 1, 1, 1, 1, 1, 1, 1, 1, 0, 1, 0, 1, 1, 1, 1, 1, 1, 1, 0, 1, 1, 0, 1, 1, 1, 1, 1, 1, 0, 1, 1, 0, 1, 1, 1, 1, 1, 1, 1, 1, 1, 1, 1, 0, 0, 1, 1, 1, 1, 1, 1, 1, 1, 1, 1, 1, 1, 1, 1, 1, 1, 1, 1, 1, 1, 1, 1, 0, 0, 1, 1, 1, 1, 1, 1, 1, 0, 1, 1, 1, 1, 0, 0, 1, 0, 1, 1, 0, 1, 0, 0, 0, 0, 1, 1, 0, 1, 1, 1, 1, 1, 1, 1, 0, 0, 0, 1, 1, 0, 0, 1, 0, 1, 1, 1, 1, 1, 1, 0, 1, 1, 1, 1, 1, 1, 1, 1, 1, 1, 1, 1, 1, 1, 0, 1, 1, 0, 1, 1, 1, 1, 1, 1, 1, 1, 1, 1, 1, 0, 1, 1, 1, 1, 1, 0, 0, 0, 1, 1, 1, 0, 1, 1, 1, 1, 0, 0, 1, 1, 1, 0, 1, 1, 1, 1, 1, 1, 0, 1, 1, 1, 1, 1, 1, 1, 1, 1, 1, 1, 1, 1, 1, 1, 1, 1, 1, 1, 1, 1, 0, 1, 1, 1, 0, 1, 1, 1, 0, 1, 1, 1, 0, 1, 1]\n",
            "1130\n",
            "[1 1 1 ... 0 1 1]\n",
            "1130\n",
            "[0, 1, 0, 1, 0, 1, 0, 0, 0, 0, 1, 0, 0, 0, 0, 0, 1, 0, 1, 1, 1, 0, 1, 0, 0, 0, 0, 1, 1, 0, 1, 0, 1, 1, 0, 1, 1, 1, 1, 1, 0, 0, 1, 1, 0, 1, 0, 0, 0, 1, 0, 0, 1, 0, 1, 0, 0, 1, 0, 1, 0, 0, 0, 1, 0, 0, 0, 1, 0, 0, 1, 0, 1, 0, 0, 0, 0, 0, 1, 1, 1, 0, 0, 0, 1, 0, 0, 0, 1, 1, 1, 1, 1, 0, 1, 0, 0, 0, 1, 0, 0, 0, 0, 0, 1, 1, 0, 0, 1, 1, 0, 1, 0, 1, 0, 0, 1, 0, 0, 1, 0, 0, 0, 0, 0, 1, 1, 0, 0, 0, 1, 0, 0, 0, 0, 0, 0, 1, 1, 0, 1, 0, 1, 0, 0, 0, 0, 1, 0, 0, 1, 0, 1, 0, 1, 1, 0, 1, 0, 1, 0, 0, 1, 0, 0, 0, 0, 0, 1, 0, 0, 0, 0, 0, 1, 0, 1, 0, 1, 1, 1, 0, 1, 1, 0, 0, 1, 0, 1, 0, 0, 1, 0, 0, 1, 0, 1, 0, 1, 0, 0, 0, 0, 1, 1, 0, 0, 0, 1, 0, 0, 0, 0, 0, 0, 1, 0, 1, 0, 0, 1, 0, 0, 0, 0, 0, 0, 0, 0, 0, 0, 1, 0, 0, 1, 1, 0, 0, 0, 0, 1, 0, 0, 0, 0, 0, 0, 0, 1, 0, 0, 1, 0, 1, 0, 0, 0, 0, 0, 1, 1, 0, 0, 1, 0, 1, 0, 0, 0, 0, 1, 0, 0, 0, 0, 0, 0, 1, 0, 0, 1, 1, 0, 0, 0, 1, 0, 0, 0, 0, 0, 0, 0, 0, 1, 0, 0, 0, 1, 0, 0, 0, 1, 1, 0, 1, 0, 0, 0, 0, 0, 1, 1, 1, 1, 1, 1, 0, 1, 1, 1, 1, 0, 1, 1, 1, 1, 1, 1, 1, 0, 1, 1, 1, 0, 0, 0, 0, 0, 0, 1, 0, 0, 1, 1, 0, 0, 1, 1, 0, 1, 0, 0, 0, 0, 1, 1, 0, 0, 0, 1, 1, 0, 0, 0, 0, 0, 0, 1, 0, 1, 0, 0, 1, 1, 0, 0, 0, 1, 0, 1, 0, 1, 1, 0, 1, 1, 0, 1, 0, 0, 0, 1, 0, 0, 0, 0, 1, 0, 0, 0, 0, 0, 0, 0, 0, 0, 1, 1, 0, 0, 0, 0, 0, 1, 0, 1, 1, 0, 1, 0, 1, 0, 1, 0, 0, 1, 0, 0, 1, 0, 1, 1, 1, 0, 0, 0, 0, 0, 0, 0, 1, 0, 0, 1, 0, 1, 1, 0, 0, 0, 0, 1, 0, 0, 0, 1, 1, 1, 0, 0, 0, 0, 1, 0, 0, 0, 0, 0, 1, 1, 0, 0, 0, 1, 0, 0, 0, 1, 0, 0, 0, 1, 0, 0, 0, 0, 1, 1, 1, 1, 0, 0, 0, 1, 0, 0, 0, 0, 0, 1, 1, 1, 0, 0, 0, 1, 1, 1, 0, 0, 1, 0, 0, 0, 0, 0, 1, 1, 0, 0, 0, 1, 0, 1, 0, 1, 0, 1, 0, 1, 1, 0, 0, 0, 1, 0, 0, 0, 0, 0, 0, 0, 1, 1, 0, 1, 1, 0, 0, 0, 1, 0, 1, 1, 0, 0, 1, 0, 0, 0, 1, 0, 0, 1, 0, 0, 0, 0, 1, 1, 0, 1, 1, 0, 1, 0, 1, 0, 1, 0, 1, 1, 0, 0, 1, 1, 0, 0, 0, 0, 0, 0, 0, 1, 0, 1, 0, 0, 0, 0, 1, 1, 0, 1, 1, 0, 1, 0, 0, 0, 0, 0, 0, 0, 0, 0, 1, 0, 1, 1, 0, 0, 0, 1, 0, 0, 0, 1, 1, 0, 1, 0, 1, 0, 1, 1, 0, 0, 0, 0, 0, 0, 0, 0, 1, 1, 0, 1, 1, 0, 0, 0, 0, 1, 1, 0, 1, 0, 0, 1, 1, 1, 0, 0, 0, 1, 0, 0, 0, 0, 0, 1, 0, 0, 0, 0, 1, 0, 1, 1, 0, 0, 1, 0, 0, 0, 1, 1, 0, 0, 1, 1, 1, 0, 0, 0, 0, 1, 1, 0, 1, 0, 0, 0, 0, 0, 1, 1, 0, 0, 0, 0, 0, 0, 0, 1, 0, 1, 0, 1, 1, 0, 1, 1, 0, 1, 0, 0, 0, 0, 0, 0, 0, 0, 0, 1, 0, 0, 0, 1, 0, 1, 0, 0, 0, 0, 0, 0, 1, 1, 1, 1, 1, 0, 0, 0, 0, 0, 0, 1, 1, 0, 0, 0, 0, 1, 0, 1, 1, 0, 0, 0, 1, 0, 1, 1, 0, 1, 1, 0, 0, 0, 1, 1, 1, 0, 0, 0, 0, 0, 1, 0, 1, 0, 0, 0, 0, 0, 0, 0, 0, 0, 0, 0, 0, 0, 0, 0, 0, 1, 0, 1, 0, 0, 0, 0, 1, 0, 0, 0, 0, 1, 0, 0, 0, 0, 0, 0, 0, 1, 0, 0, 1, 0, 1, 0, 0, 0, 0, 0, 0, 1, 1, 0, 0, 1, 1, 0, 0, 0, 0, 0, 1, 1, 0, 0, 1, 0, 0, 0, 0, 1, 1, 1, 0, 0, 0, 0, 0, 1, 1, 0, 0, 0, 0, 0, 0, 0, 0, 0, 1, 0, 0, 1, 1, 0, 1, 0, 0, 1, 1, 1, 0, 0, 1, 0, 1, 0, 0, 1, 0, 1, 0, 0, 0, 0, 0, 0, 1, 1, 0, 1, 1, 1, 0, 1, 0, 0, 1, 1, 0, 1, 1, 0, 0, 0, 1, 0, 0, 0, 1, 1, 0, 0, 0, 0, 0, 1, 0, 0, 1, 0, 0, 0, 1, 0, 0, 0, 0, 1, 0, 0, 0, 0, 1, 0, 0, 0, 0, 0, 1, 0, 1, 1, 0, 0, 0, 0, 1, 1, 0, 1, 0, 0, 0, 0, 1, 1, 0, 1, 0, 1, 0, 0, 1, 0, 0, 0, 1, 1, 0, 0, 1, 1, 0, 0, 0, 0, 1, 0, 1, 1, 0, 0, 0, 0, 0, 0, 0, 1, 0, 0, 0, 1, 0, 0, 0, 0, 0, 0, 0, 0, 0, 0, 0, 1, 0, 1, 0, 1, 1, 0, 0, 0, 0, 0, 1, 1, 0, 0, 1, 0, 0, 0, 0, 0, 0, 0, 0, 0, 1, 0, 1, 0, 0, 1, 1, 0, 1, 0, 1, 1, 0, 0, 1, 0, 0, 1, 0, 0, 0, 0, 0, 0, 0, 0, 1, 1, 0, 1, 0, 0, 1, 0, 1, 0, 0, 1, 0, 1, 0, 0, 0, 0, 0, 1, 0, 0, 0, 1, 1, 1, 0, 0, 1, 0, 1, 1, 0, 1, 1, 1, 0, 0, 0, 1, 1, 0, 0, 1, 0, 0, 0, 0, 1, 1, 0, 0, 0]\n",
            "1130\n"
          ],
          "name": "stdout"
        }
      ]
    },
    {
      "cell_type": "code",
      "metadata": {
        "id": "IABg1SuM9wfW",
        "colab_type": "code",
        "colab": {}
      },
      "source": [
        "from keras.applications.inception_v3 import InceptionV3\n",
        "from keras.preprocessing import image\n",
        "from keras.models import Model\n",
        "from keras.layers import Dense, GlobalAveragePooling2D,Dropout\n",
        "from keras import backend as K\n",
        "from keras.layers import Input"
      ],
      "execution_count": 0,
      "outputs": []
    },
    {
      "cell_type": "markdown",
      "metadata": {
        "id": "JLywW23cJSWb",
        "colab_type": "text"
      },
      "source": [
        "# InceptionV3 Model for Axial Meniscus"
      ]
    },
    {
      "cell_type": "code",
      "metadata": {
        "id": "FwBkOdWI_tjx",
        "colab_type": "code",
        "colab": {}
      },
      "source": [
        "# this could also be the output a different Keras model or layer\n",
        "input_tensor = Input(shape=(256, 256,3))  # this assumes K.image_data_format() == 'channels_last'\n",
        "\n",
        "base_model_ax_men = InceptionV3(input_tensor=input_tensor, weights='imagenet', include_top=False)\n"
      ],
      "execution_count": 0,
      "outputs": []
    },
    {
      "cell_type": "code",
      "metadata": {
        "id": "uzEJBpRkUYX7",
        "colab_type": "code",
        "colab": {}
      },
      "source": [
        "\n",
        "x = base_model_ax_men.output\n",
        "\n",
        "x = GlobalAveragePooling2D()(x)\n",
        "# let's add a fully-connected layer\n",
        "x=Dropout(0.2)(x)\n",
        "x = Dense(1024, activation='relu')(x)\n",
        "x=Dropout(0.2)(x)\n",
        "x=Dropout(0.2)(x)\n",
        "predictions = Dense(1, activation='sigmoid')(x)\n",
        "#base_model.output=x\n",
        "# this is the model we will train\n",
        "model = Model(inputs=base_model_ax_men.input,outputs=predictions)"
      ],
      "execution_count": 0,
      "outputs": []
    },
    {
      "cell_type": "code",
      "metadata": {
        "id": "uPoHK2f3r1ul",
        "colab_type": "code",
        "colab": {}
      },
      "source": [
        "for layer in model.layers[:79]:\n",
        "   layer.trainable = False\n",
        "for layer in model.layers[79:]:\n",
        "   layer.trainable = True\n",
        "    "
      ],
      "execution_count": 0,
      "outputs": []
    },
    {
      "cell_type": "code",
      "metadata": {
        "id": "btpx20hvfyuv",
        "colab_type": "code",
        "outputId": "117ce581-93dc-4b57-edf9-d4ae1ff3ebdd",
        "colab": {
          "base_uri": "https://localhost:8080/",
          "height": 1020
        }
      },
      "source": [
        "from keras.callbacks import EarlyStopping\n",
        "from keras.optimizers import SGD\n",
        "early_stopping_monitor = EarlyStopping(patience=5)    \n",
        "model.compile(optimizer=SGD(lr=0.001,momentum=0.9), loss='binary_crossentropy',metrics=['accuracy'])\n",
        "history=model.fit(train_axial ,trainMen_labels, validation_split=0.05,shuffle=True ,epochs=100, callbacks=[early_stopping_monitor], batch_size = 20)\n",
        "#model.fit(train_axial,trainMen_labels,epochs=50,batch_size=1000,validation_split=0.05,verbose=2,callbacks=[EarlyStopping(monitor='val_loss', patience=10, verbose=1, mode=\"min\")])"
      ],
      "execution_count": 0,
      "outputs": [
        {
          "output_type": "stream",
          "text": [
            "Train on 1073 samples, validate on 57 samples\n",
            "Epoch 1/100\n",
            "1073/1073 [==============================] - 54s 51ms/step - loss: 0.6644 - acc: 0.6328 - val_loss: 6.2210 - val_acc: 0.6140\n",
            "Epoch 2/100\n",
            "1073/1073 [==============================] - 10s 9ms/step - loss: 0.5230 - acc: 0.7316 - val_loss: 6.2210 - val_acc: 0.6140\n",
            "Epoch 3/100\n",
            "1073/1073 [==============================] - 10s 9ms/step - loss: 0.4364 - acc: 0.7819 - val_loss: 6.2210 - val_acc: 0.6140\n",
            "Epoch 4/100\n",
            "1073/1073 [==============================] - 10s 9ms/step - loss: 0.3232 - acc: 0.8677 - val_loss: 6.2210 - val_acc: 0.6140\n",
            "Epoch 5/100\n",
            "1073/1073 [==============================] - 10s 9ms/step - loss: 0.2072 - acc: 0.9366 - val_loss: 6.5301 - val_acc: 0.5614\n",
            "Epoch 6/100\n",
            "1073/1073 [==============================] - 10s 9ms/step - loss: 0.1149 - acc: 0.9674 - val_loss: 5.8830 - val_acc: 0.6316\n",
            "Epoch 7/100\n",
            "1073/1073 [==============================] - 10s 9ms/step - loss: 0.0675 - acc: 0.9851 - val_loss: 4.8252 - val_acc: 0.6667\n",
            "Epoch 8/100\n",
            "1073/1073 [==============================] - 10s 9ms/step - loss: 0.0426 - acc: 0.9935 - val_loss: 5.0102 - val_acc: 0.6842\n",
            "Epoch 9/100\n",
            "1073/1073 [==============================] - 10s 9ms/step - loss: 0.0431 - acc: 0.9907 - val_loss: 5.1344 - val_acc: 0.6491\n",
            "Epoch 10/100\n",
            "1073/1073 [==============================] - 10s 9ms/step - loss: 0.0335 - acc: 0.9925 - val_loss: 5.2862 - val_acc: 0.6316\n",
            "Epoch 11/100\n",
            "1073/1073 [==============================] - 10s 9ms/step - loss: 0.0269 - acc: 0.9916 - val_loss: 6.3830 - val_acc: 0.5614\n",
            "Epoch 12/100\n",
            "1073/1073 [==============================] - 10s 9ms/step - loss: 0.0478 - acc: 0.9860 - val_loss: 5.5398 - val_acc: 0.5789\n"
          ],
          "name": "stdout"
        }
      ]
    },
    {
      "cell_type": "markdown",
      "metadata": {
        "id": "Fyo2JZljypru",
        "colab_type": "text"
      },
      "source": [
        " # De acc beta3et inception model\n",
        " #acc: 0.3495                             softmax\n",
        " #acc: 0.6841                             sigmoid\n",
        " #acc: 0.4567                             shelt el dense layer\n",
        "  #acc: 0.6058                             raga3t el dens layer\n",
        " #0.64867256                             added dropout 0.1\n",
        "  #acc: 0.5163                             dr=0.3\n",
        "  #0.4                                             dr=0.2\n",
        " #val_acc: 0.4737                        dr=0.1\n",
        " #0.6336283184785758             zawdt el training layers\n",
        " #0.6460176990095493            lr=0.0001\n",
        " #0.46371681437028195         lr=0.01\n",
        " #0.6460176990095493            lr=0.00001\n",
        " #0.40973451330071003         shelt el momentum bada2 y habel\n",
        "  \n",
        "  \n",
        " # hagrab Nasnet\n",
        " very slow w accracy 0.3\n",
        " \n",
        " \n",
        " #Inception tany\n",
        " 0.6486725662661865    lr 0.01\n",
        "  0.5415929205649722    trainable 50\n",
        "  0.414159292061772      trainable  70\n",
        "  0.6274336282130891    zawdt dr layers"
      ]
    },
    {
      "cell_type": "code",
      "metadata": {
        "id": "C0CTSKE7yOEE",
        "colab_type": "code",
        "outputId": "5e3dcac7-de6e-40c5-8cbc-72b4030db05c",
        "colab": {
          "base_uri": "https://localhost:8080/",
          "height": 349
        }
      },
      "source": [
        "# Show simple version of performance                           \n",
        "score = model.evaluate(train_axial ,trainMen_labels,verbose=1)       \n",
        "print('Train loss:',score[0])\n",
        "print('Train accuracy:',score[1])                          \n",
        "# Show loss curves                                          \n",
        "plt.figure()\n",
        "plt.grid()                                              \n",
        "                                                            \n",
        "plt.title('Training performance')                          \n",
        "plt.plot(history.epoch, history.history['loss'], label='train loss+error')  \n",
        "plt.plot(history.epoch, history.history['val_loss'], label='val_error')   \n",
        "plt.legend()"
      ],
      "execution_count": 0,
      "outputs": [
        {
          "output_type": "stream",
          "text": [
            "1130/1130 [==============================] - 4s 4ms/step\n",
            "Train loss: 5.3126493344264745\n",
            "Train accuracy: 0.6141592922463881\n"
          ],
          "name": "stdout"
        },
        {
          "output_type": "execute_result",
          "data": {
            "text/plain": [
              "<matplotlib.legend.Legend at 0x7f34ab6172e8>"
            ]
          },
          "metadata": {
            "tags": []
          },
          "execution_count": 51
        },
        {
          "output_type": "display_data",
          "data": {
            "image/png": "[encoded data removed]",
            "text/plain": [
              "<Figure size 432x288 with 1 Axes>"
            ]
          },
          "metadata": {
            "tags": []
          }
        }
      ]
    },
    {
      "cell_type": "markdown",
      "metadata": {
        "id": "y7WvkwHQy9dz",
        "colab_type": "text"
      },
      "source": [
        "#To save the model"
      ]
    },
    {
      "cell_type": "code",
      "metadata": {
        "id": "ocQqbQlTzCqF",
        "colab_type": "code",
        "colab": {}
      },
      "source": [
        "#from keras.models import load_model\n",
        "\n",
        "#model.save('my_model.h5')  # creates a HDF5 file 'my_model.h5'\n",
        "#del model  # deletes the existing model\n",
        "\n",
        "# returns a compiled model\n",
        "#identical to the previous one\n",
        "#model = load_model('my_model.h5')"
      ],
      "execution_count": 0,
      "outputs": []
    },
    {
      "cell_type": "markdown",
      "metadata": {
        "id": "4LHGDU-xtbvJ",
        "colab_type": "text"
      },
      "source": [
        "#Plotting accuracy of both training and validation sets per epoch."
      ]
    },
    {
      "cell_type": "code",
      "metadata": {
        "id": "eJh9LZBSrfij",
        "colab_type": "code",
        "outputId": "8a5723e5-0275-4fe3-bc9b-75009d775e9b",
        "colab": {
          "base_uri": "https://localhost:8080/",
          "height": 295
        }
      },
      "source": [
        "# summarize history for accuracy\n",
        "plt.plot(history.history['acc'])\n",
        "plt.plot(history.history['val_acc'])\n",
        "plt.title('model accuracy')\n",
        "plt.ylabel('accuracy')\n",
        "plt.xlabel('epoch')\n",
        "plt.legend(['train', 'test'], loc='upper left')\n",
        "plt.grid() \n",
        "plt.show()"
      ],
      "execution_count": 0,
      "outputs": [
        {
          "output_type": "display_data",
          "data": {
            "image/png": "[encoded data removed]",
            "text/plain": [
              "<Figure size 432x288 with 1 Axes>"
            ]
          },
          "metadata": {
            "tags": []
          }
        }
      ]
    },
    {
      "cell_type": "markdown",
      "metadata": {
        "id": "wmZf2R0ezncx",
        "colab_type": "text"
      },
      "source": [
        "#InceptionV3 Model for Axial ACL"
      ]
    },
    {
      "cell_type": "code",
      "metadata": {
        "id": "W91sxbOZzgVF",
        "colab_type": "code",
        "colab": {}
      },
      "source": [
        "# this could also be the output a different Keras model or layer\n",
        "input_tensor = Input(shape=(256, 256,3))  # this assumes K.image_data_format() == 'channels_last'\n",
        "\n",
        "base_model_ax_ACL = InceptionV3(input_tensor=input_tensor, weights='imagenet', include_top=False)\n",
        "\n"
      ],
      "execution_count": 0,
      "outputs": []
    },
    {
      "cell_type": "code",
      "metadata": {
        "id": "yEnh6bpQzw0s",
        "colab_type": "code",
        "colab": {}
      },
      "source": [
        "x = base_model_ax_ACL.output\n",
        "\n",
        "x = GlobalAveragePooling2D()(x)\n",
        "# let's add a fully-connected layer\n",
        "x=Dropout(0.2)(x)\n",
        "x = Dense(1024, activation='relu')(x)\n",
        "x=Dropout(0.2)(x)\n",
        "x=Dropout(0.2)(x)\n",
        "predictions = Dense(1, activation='sigmoid')(x)\n",
        "#base_model.output=x\n",
        "# this is the model we will train\n",
        "model2 = Model(inputs=base_model_ax_ACL.input,outputs=predictions)"
      ],
      "execution_count": 0,
      "outputs": []
    },
    {
      "cell_type": "code",
      "metadata": {
        "id": "Qcy9VIrbz0uS",
        "colab_type": "code",
        "colab": {}
      },
      "source": [
        "for layer in model2.layers[:79]:\n",
        "   layer.trainable = False\n",
        "for layer in model2.layers[79:]:\n",
        "   layer.trainable = True"
      ],
      "execution_count": 0,
      "outputs": []
    },
    {
      "cell_type": "code",
      "metadata": {
        "id": "K5bkMw8rz53v",
        "colab_type": "code",
        "outputId": "a5d61af1-cee9-48f6-a45d-571318ec7abe",
        "colab": {
          "base_uri": "https://localhost:8080/",
          "height": 1020
        }
      },
      "source": [
        "from keras.callbacks import EarlyStopping\n",
        "from keras.optimizers import SGD\n",
        "early_stopping_monitor = EarlyStopping(patience=5)    \n",
        "model2.compile(optimizer=SGD(lr=0.001,momentum=0.9), loss='binary_crossentropy',metrics=['accuracy'])\n",
        "history2=model2.fit(train_axial ,trainACL_labels, validation_split=0.05,shuffle=True ,epochs=100, callbacks=[early_stopping_monitor], batch_size = 20)\n",
        "#model.fit(train_axial,trainMen_labels,epochs=50,batch_size=1000,validation_split=0.05,verbose=2,callbacks=[EarlyStopping(monitor='val_loss', patience=10, verbose=1, mode=\"min\")])"
      ],
      "execution_count": 0,
      "outputs": [
        {
          "output_type": "stream",
          "text": [
            "Train on 1073 samples, validate on 57 samples\n",
            "Epoch 1/100\n",
            "1073/1073 [==============================] - 72s 67ms/step - loss: 0.4864 - acc: 0.8080 - val_loss: 2.5450 - val_acc: 0.8421\n",
            "Epoch 2/100\n",
            "1073/1073 [==============================] - 10s 9ms/step - loss: 0.3912 - acc: 0.8192 - val_loss: 2.5450 - val_acc: 0.8421\n",
            "Epoch 3/100\n",
            "1073/1073 [==============================] - 10s 9ms/step - loss: 0.3146 - acc: 0.8574 - val_loss: 2.5450 - val_acc: 0.8421\n",
            "Epoch 4/100\n",
            "1073/1073 [==============================] - 10s 9ms/step - loss: 0.2175 - acc: 0.9068 - val_loss: 2.5450 - val_acc: 0.8421\n",
            "Epoch 5/100\n",
            "1073/1073 [==============================] - 10s 9ms/step - loss: 0.1244 - acc: 0.9683 - val_loss: 3.6828 - val_acc: 0.7193\n",
            "Epoch 6/100\n",
            "1073/1073 [==============================] - 10s 9ms/step - loss: 0.0785 - acc: 0.9860 - val_loss: 3.8944 - val_acc: 0.7544\n"
          ],
          "name": "stdout"
        }
      ]
    },
    {
      "cell_type": "code",
      "metadata": {
        "id": "0acHIajk0WVz",
        "colab_type": "code",
        "outputId": "537611b4-c32a-4f64-ec92-d989aa3e6ecf",
        "colab": {
          "base_uri": "https://localhost:8080/",
          "height": 349
        }
      },
      "source": [
        "# Show simple version of performance                           \n",
        "score2 = model2.evaluate(train_axial ,trainACL_labels,verbose=1)       \n",
        "print('Train loss:',score2[0])\n",
        "print('Train accuracy:',score2[1])                          \n",
        "# Show loss curves                                          \n",
        "plt.figure()\n",
        "plt.grid()                                              \n",
        "                                                            \n",
        "plt.title('Training performance')                          \n",
        "plt.plot(history2.epoch, history2.history['loss'], label='train loss+error')  \n",
        "plt.plot(history2.epoch, history2.history['val_loss'], label='val_error')   \n",
        "plt.legend()"
      ],
      "execution_count": 0,
      "outputs": [
        {
          "output_type": "stream",
          "text": [
            "1130/1130 [==============================] - 4s 4ms/step\n",
            "Train loss: 3.8396355536131734\n",
            "Train accuracy: 0.7327433626208685\n"
          ],
          "name": "stdout"
        },
        {
          "output_type": "execute_result",
          "data": {
            "text/plain": [
              "<matplotlib.legend.Legend at 0x7f3496fc9358>"
            ]
          },
          "metadata": {
            "tags": []
          },
          "execution_count": 66
        },
        {
          "output_type": "display_data",
          "data": {
            "image/png": "[encoded data removed]",
            "text/plain": [
              "<Figure size 432x288 with 1 Axes>"
            ]
          },
          "metadata": {
            "tags": []
          }
        }
      ]
    },
    {
      "cell_type": "markdown",
      "metadata": {
        "id": "_DsuDMQE0sE9",
        "colab_type": "text"
      },
      "source": [
        "#To save the model"
      ]
    },
    {
      "cell_type": "code",
      "metadata": {
        "id": "6M16UYgL0wIf",
        "colab_type": "code",
        "colab": {}
      },
      "source": [
        "#from keras.models import load_model\n",
        "\n",
        "#model2.save('my_model.h5')  # creates a HDF5 file 'my_model.h5'\n",
        "#del model2  # deletes the existing model\n",
        "\n",
        "# returns a compiled model\n",
        "#identical to the previous one\n",
        "#model2 = load_model('my_model.h5')"
      ],
      "execution_count": 0,
      "outputs": []
    },
    {
      "cell_type": "markdown",
      "metadata": {
        "id": "JIzTeIQJ08Ep",
        "colab_type": "text"
      },
      "source": [
        "#InceptionV3 Model for Axial Abnormal"
      ]
    },
    {
      "cell_type": "code",
      "metadata": {
        "id": "L-L9iI9z0-wB",
        "colab_type": "code",
        "colab": {}
      },
      "source": [
        "# this could also be the output a different Keras model or layer\n",
        "input_tensor = Input(shape=(256, 256,3))  # this assumes K.image_data_format() == 'channels_last'\n",
        "\n",
        "base_model_ax_AB = InceptionV3(input_tensor=input_tensor, weights='imagenet', include_top=False)\n",
        "\n",
        "\n"
      ],
      "execution_count": 0,
      "outputs": []
    },
    {
      "cell_type": "code",
      "metadata": {
        "id": "y2exvZb-19SL",
        "colab_type": "code",
        "colab": {}
      },
      "source": [
        "x = base_model_ax_AB.output\n",
        "\n",
        "x = GlobalAveragePooling2D()(x)\n",
        "# let's add a fully-connected layer\n",
        "x=Dropout(0.2)(x)\n",
        "x = Dense(1024, activation='relu')(x)\n",
        "x=Dropout(0.2)(x)\n",
        "x=Dropout(0.2)(x)\n",
        "predictions = Dense(1, activation='sigmoid')(x)\n",
        "#base_model.output=x\n",
        "# this is the model we will train\n",
        "model3 = Model(inputs=base_model_ax_AB.input,outputs=predictions)"
      ],
      "execution_count": 0,
      "outputs": []
    },
    {
      "cell_type": "code",
      "metadata": {
        "id": "a7mXwAtA2IL0",
        "colab_type": "code",
        "colab": {}
      },
      "source": [
        "for layer in model3.layers[:79]:\n",
        "   layer.trainable = False\n",
        "for layer in model3.layers[79:]:\n",
        "   layer.trainable = True"
      ],
      "execution_count": 0,
      "outputs": []
    },
    {
      "cell_type": "code",
      "metadata": {
        "id": "gfK3QM3Y2OBx",
        "colab_type": "code",
        "outputId": "58b9fc48-70ec-4c4d-ae59-255921bdf2ed",
        "colab": {
          "base_uri": "https://localhost:8080/",
          "height": 1020
        }
      },
      "source": [
        "from keras.callbacks import EarlyStopping\n",
        "from keras.optimizers import SGD\n",
        "early_stopping_monitor = EarlyStopping(patience=5)    \n",
        "model3.compile(optimizer=SGD(lr=0.001,momentum=0.9), loss='binary_crossentropy',metrics=['accuracy'])\n",
        "history3=model3.fit(train_axial ,trainAb_labels, validation_split=0.05,shuffle=True ,epochs=100, callbacks=[early_stopping_monitor], batch_size = 20)\n",
        "#model.fit(train_axial,trainMen_labels,epochs=50,batch_size=1000,validation_split=0.05,verbose=2,callbacks=[EarlyStopping(monitor='val_loss', patience=10, verbose=1, mode=\"min\")])"
      ],
      "execution_count": 0,
      "outputs": [
        {
          "output_type": "stream",
          "text": [
            "Train on 1073 samples, validate on 57 samples\n",
            "Epoch 1/100\n",
            "1073/1073 [==============================] - 89s 83ms/step - loss: 0.6495 - acc: 0.6216 - val_loss: 6.2210 - val_acc: 0.6140\n",
            "Epoch 2/100\n",
            "1073/1073 [==============================] - 10s 9ms/step - loss: 0.5470 - acc: 0.7074 - val_loss: 6.2210 - val_acc: 0.6140\n",
            "Epoch 3/100\n",
            "1073/1073 [==============================] - 10s 9ms/step - loss: 0.4595 - acc: 0.7651 - val_loss: 6.2338 - val_acc: 0.5965\n",
            "Epoch 4/100\n",
            "1073/1073 [==============================] - 10s 9ms/step - loss: 0.3684 - acc: 0.8397 - val_loss: 6.2210 - val_acc: 0.6140\n",
            "Epoch 5/100\n",
            "1073/1073 [==============================] - 10s 9ms/step - loss: 0.2321 - acc: 0.9264 - val_loss: 6.2210 - val_acc: 0.6140\n",
            "Epoch 6/100\n",
            "1073/1073 [==============================] - 10s 9ms/step - loss: 0.1232 - acc: 0.9655 - val_loss: 6.2210 - val_acc: 0.6140\n"
          ],
          "name": "stdout"
        }
      ]
    },
    {
      "cell_type": "code",
      "metadata": {
        "id": "8qVUA8jD2ZWb",
        "colab_type": "code",
        "outputId": "2455eb49-5e6e-4785-b9bf-225e189f3d8b",
        "colab": {
          "base_uri": "https://localhost:8080/",
          "height": 349
        }
      },
      "source": [
        "# Show simple version of performance                           \n",
        "score3 = model3.evaluate(train_axial ,trainAb_labels,verbose=1)       \n",
        "print('Train loss:',score3[0])\n",
        "print('Train accuracy:',score3[1])                          \n",
        "# Show loss curves                                          \n",
        "plt.figure()\n",
        "plt.grid()                                              \n",
        "                                                            \n",
        "plt.title('Training performance')                          \n",
        "plt.plot(history3.epoch, history3.history['loss'], label='train loss+error')  \n",
        "plt.plot(history3.epoch, history3.history['val_loss'], label='val_error')   \n",
        "plt.legend()"
      ],
      "execution_count": 0,
      "outputs": [
        {
          "output_type": "stream",
          "text": [
            "1130/1130 [==============================] - 4s 4ms/step\n",
            "Train loss: 5.6744646941666055\n",
            "Train accuracy: 0.647787610513974\n"
          ],
          "name": "stdout"
        },
        {
          "output_type": "execute_result",
          "data": {
            "text/plain": [
              "<matplotlib.legend.Legend at 0x7f3484bc1940>"
            ]
          },
          "metadata": {
            "tags": []
          },
          "execution_count": 77
        },
        {
          "output_type": "display_data",
          "data": {
            "image/png": "[encoded data removed]",
            "text/plain": [
              "<Figure size 432x288 with 1 Axes>"
            ]
          },
          "metadata": {
            "tags": []
          }
        }
      ]
    },
    {
      "cell_type": "markdown",
      "metadata": {
        "id": "E-WRpxVZ3LTb",
        "colab_type": "text"
      },
      "source": [
        "#To save the model"
      ]
    },
    {
      "cell_type": "code",
      "metadata": {
        "id": "xk4sTWbf3O9F",
        "colab_type": "code",
        "colab": {}
      },
      "source": [
        "#from keras.models import load_model\n",
        "\n",
        "#model2.save('my_model.h5')  # creates a HDF5 file 'my_model.h5'\n",
        "#del model2  # deletes the existing model\n",
        "\n",
        "# returns a compiled model\n",
        "#identical to the previous one\n",
        "#model2 = load_model('my_model.h5')"
      ],
      "execution_count": 0,
      "outputs": []
    },
    {
      "cell_type": "markdown",
      "metadata": {
        "id": "gvtnuUab3sGt",
        "colab_type": "text"
      },
      "source": [
        "#Reading Coronal data"
      ]
    },
    {
      "cell_type": "code",
      "metadata": {
        "id": "sL-8TZ2J36tA",
        "colab_type": "code",
        "outputId": "f0527f03-c59d-4d04-99e7-ec3fb2e9d308",
        "colab": {
          "base_uri": "https://localhost:8080/",
          "height": 68
        }
      },
      "source": [
        "import os\n",
        "import numpy as np\n",
        "from matplotlib import pyplot as plt\n",
        "import math\n",
        "\n",
        "\n",
        "#reading coronal directery in order\n",
        "coronal_dir = os.listdir(\"/content/data/MRNet-v1.0/train/coronal/\")\n",
        "coronal_dir = [f.lower() for f in coronal_dir]   # Convert to lower case\n",
        "c=sorted(coronal_dir)\n",
        "coronal_list=np.array(c)\n",
        "coronal_reloaded=[]\n",
        "print(coronal_list.shape)\n",
        "for j in range(1,1131):\n",
        "    file2= \"/content/data/MRNet-v1.0/train/coronal/\"+coronal_list[j]\n",
        "    coronal_reloaded.append(np.load(file2,allow_pickle='false'))\n",
        "\n",
        "coronal_reloaded=np.array(coronal_reloaded)\n",
        "\n",
        "print(coronal_reloaded.shape)\n",
        "train_coronal=[]\n",
        " \n",
        "for j in range(len(axial_reloaded)):\n",
        "   \n",
        "    mid2=math.floor((coronal_reloaded[j].shape[0])/2)\n",
        "\n",
        "    train_coronal.append([])\n",
        "  \n",
        "    #genereting training set for coronal    \n",
        "    for n in range(mid2-1,mid2+2):\n",
        "         train_coronal[j].append(coronal_reloaded[j][n])\n",
        "\n",
        "train_coronal=np.array(train_coronal)\n",
        "\n",
        "train_coronal=np.reshape(train_coronal,(1130,256,256,3))\n",
        "\n",
        "print(train_coronal.shape)\n"
      ],
      "execution_count": 0,
      "outputs": [
        {
          "output_type": "stream",
          "text": [
            "(1131,)\n",
            "(1130,)\n",
            "(1130, 256, 256, 3)\n"
          ],
          "name": "stdout"
        }
      ]
    },
    {
      "cell_type": "markdown",
      "metadata": {
        "id": "RM003h3Y46L-",
        "colab_type": "text"
      },
      "source": [
        "#InceptionV3 Model for Coronal Menscuis"
      ]
    },
    {
      "cell_type": "code",
      "metadata": {
        "id": "N-4cC08a50ot",
        "colab_type": "code",
        "colab": {}
      },
      "source": [
        "# this could also be the output a different Keras model or layer\n",
        "input_tensor = Input(shape=(256, 256,3))  # this assumes K.image_data_format() == 'channels_last'\n",
        "\n",
        "base_model_Co_Men = InceptionV3(input_tensor=input_tensor, weights='imagenet', include_top=False)\n",
        "\n",
        "\n"
      ],
      "execution_count": 0,
      "outputs": []
    },
    {
      "cell_type": "code",
      "metadata": {
        "id": "HRaoDsnw57HB",
        "colab_type": "code",
        "colab": {}
      },
      "source": [
        "x = base_model_Co_Men.output\n",
        "\n",
        "x = GlobalAveragePooling2D()(x)\n",
        "# let's add a fully-connected layer\n",
        "x=Dropout(0.2)(x)\n",
        "x = Dense(1024, activation='relu')(x)\n",
        "x=Dropout(0.2)(x)\n",
        "x=Dropout(0.2)(x)\n",
        "predictions = Dense(1, activation='sigmoid')(x)\n",
        "#base_model.output=x\n",
        "# this is the model we will train\n",
        "model4 = Model(inputs=base_model_ax_AB.input,outputs=predictions)"
      ],
      "execution_count": 0,
      "outputs": []
    },
    {
      "cell_type": "code",
      "metadata": {
        "id": "Xa1OIRRw5_q-",
        "colab_type": "code",
        "colab": {}
      },
      "source": [
        "for layer in model4.layers[:79]:\n",
        "   layer.trainable = False\n",
        "for layer in model4.layers[79:]:\n",
        "   layer.trainable = True"
      ],
      "execution_count": 0,
      "outputs": []
    },
    {
      "cell_type": "code",
      "metadata": {
        "id": "0sTn67eX6GyY",
        "colab_type": "code",
        "colab": {}
      },
      "source": [
        "from keras.callbacks import EarlyStopping\n",
        "from keras.optimizers import SGD\n",
        "early_stopping_monitor = EarlyStopping(patience=5)    \n",
        "model4.compile(optimizer=SGD(lr=0.001,momentum=0.9), loss='binary_crossentropy',metrics=['accuracy'])\n",
        "history4=model4.fit(train_coronal ,trainMen_labels, validation_split=0.05,shuffle=True ,epochs=100, callbacks=[early_stopping_monitor], batch_size = 20)\n",
        "#model.fit(train_axial,trainMen_labels,epochs=50,batch_size=1000,validation_split=0.05,verbose=2,callbacks=[EarlyStopping(monitor='val_loss', patience=10, verbose=1, mode=\"min\")])"
      ],
      "execution_count": 0,
      "outputs": []
    },
    {
      "cell_type": "markdown",
      "metadata": {
        "id": "jVuoDrevt-x3",
        "colab_type": "text"
      },
      "source": [
        "#Plotting loss of both training and validation sets per epoch."
      ]
    },
    {
      "cell_type": "code",
      "metadata": {
        "id": "iwwNXsT_r0m1",
        "colab_type": "code",
        "outputId": "0f692ca0-2881-46e2-b7ad-146bd7619420",
        "colab": {
          "base_uri": "https://localhost:8080/",
          "height": 295
        }
      },
      "source": [
        "# summarize history for loss\n",
        "plt.plot(history.history['loss'])\n",
        "plt.plot(history.history['val_loss'])\n",
        "plt.title('model loss')\n",
        "plt.ylabel('loss')\n",
        "plt.xlabel('epoch')\n",
        "plt.legend(['train', 'test'], loc='upper left')\n",
        "plt.grid()\n",
        "plt.show()"
      ],
      "execution_count": 0,
      "outputs": [
        {
          "output_type": "display_data",
          "data": {
            "image/png": "[encoded data removed]",
            "text/plain": [
              "<Figure size 432x288 with 1 Axes>"
            ]
          },
          "metadata": {
            "tags": []
          }
        }
      ]
    },
    {
      "cell_type": "markdown",
      "metadata": {
        "id": "D3tOvpJzuHWW",
        "colab_type": "text"
      },
      "source": [
        "#Plotting Fscore of both training and validation sets per epoch.\n",
        "lesa msh 3arfa a3melha"
      ]
    },
    {
      "cell_type": "code",
      "metadata": {
        "id": "3SqaDN9auLqe",
        "colab_type": "code",
        "colab": {}
      },
      "source": [
        "\n",
        "y_pred = model.predict(train_axial ,trainMen_labels,verbose=1)   \n",
        "f_score=f1_score(trainMen_labels, y_pred, average='binary')\n",
        "plt.plot(history.history['val_loss'])"
      ],
      "execution_count": 0,
      "outputs": []
    },
    {
      "cell_type": "markdown",
      "metadata": {
        "id": "5ElEQ5p-McTE",
        "colab_type": "text"
      },
      "source": [
        "# To save the model"
      ]
    },
    {
      "cell_type": "code",
      "metadata": {
        "id": "LaPFEm9XJKDM",
        "colab_type": "code",
        "outputId": "1dc85a45-467f-4fd8-dced-51b7a5400a09",
        "colab": {
          "base_uri": "https://localhost:8080/",
          "height": 435
        }
      },
      "source": [
        "#from keras.models import load_model\n",
        "\n",
        "#model.save('my_model.h5')  # creates a HDF5 file 'my_model.h5'\n",
        "#del model  # deletes the existing model\n",
        "\n",
        "# returns a compiled model\n",
        "#identical to the previous one\n",
        "#model = load_model('my_model.h5')"
      ],
      "execution_count": 0,
      "outputs": [
        {
          "output_type": "error",
          "ename": "KeyboardInterrupt",
          "evalue": "ignored",
          "traceback": [
            "\u001b[0;31m---------------------------------------------------------------------------\u001b[0m",
            "\u001b[0;31mKeyboardInterrupt\u001b[0m                         Traceback (most recent call last)",
            "\u001b[0;32m<ipython-input-134-c323dabbafc6>\u001b[0m in \u001b[0;36m<module>\u001b[0;34m()\u001b[0m\n\u001b[1;32m      1\u001b[0m \u001b[0;32mfrom\u001b[0m \u001b[0mkeras\u001b[0m\u001b[0;34m.\u001b[0m\u001b[0mmodels\u001b[0m \u001b[0;32mimport\u001b[0m \u001b[0mload_model\u001b[0m\u001b[0;34m\u001b[0m\u001b[0;34m\u001b[0m\u001b[0m\n\u001b[1;32m      2\u001b[0m \u001b[0;34m\u001b[0m\u001b[0m\n\u001b[0;32m----> 3\u001b[0;31m \u001b[0mmodel\u001b[0m\u001b[0;34m.\u001b[0m\u001b[0msave\u001b[0m\u001b[0;34m(\u001b[0m\u001b[0;34m'my_model.h5'\u001b[0m\u001b[0;34m)\u001b[0m  \u001b[0;31m# creates a HDF5 file 'my_model.h5'\u001b[0m\u001b[0;34m\u001b[0m\u001b[0;34m\u001b[0m\u001b[0m\n\u001b[0m\u001b[1;32m      4\u001b[0m \u001b[0;32mdel\u001b[0m \u001b[0mmodel\u001b[0m  \u001b[0;31m# deletes the existing model\u001b[0m\u001b[0;34m\u001b[0m\u001b[0;34m\u001b[0m\u001b[0m\n\u001b[1;32m      5\u001b[0m \u001b[0;34m\u001b[0m\u001b[0m\n",
            "\u001b[0;32m/usr/local/lib/python3.6/dist-packages/keras/engine/network.py\u001b[0m in \u001b[0;36msave\u001b[0;34m(self, filepath, overwrite, include_optimizer)\u001b[0m\n\u001b[1;32m   1088\u001b[0m             \u001b[0;32mraise\u001b[0m \u001b[0mNotImplementedError\u001b[0m\u001b[0;34m\u001b[0m\u001b[0;34m\u001b[0m\u001b[0m\n\u001b[1;32m   1089\u001b[0m         \u001b[0;32mfrom\u001b[0m \u001b[0;34m.\u001b[0m\u001b[0;34m.\u001b[0m\u001b[0mmodels\u001b[0m \u001b[0;32mimport\u001b[0m \u001b[0msave_model\u001b[0m\u001b[0;34m\u001b[0m\u001b[0;34m\u001b[0m\u001b[0m\n\u001b[0;32m-> 1090\u001b[0;31m         \u001b[0msave_model\u001b[0m\u001b[0;34m(\u001b[0m\u001b[0mself\u001b[0m\u001b[0;34m,\u001b[0m \u001b[0mfilepath\u001b[0m\u001b[0;34m,\u001b[0m \u001b[0moverwrite\u001b[0m\u001b[0;34m,\u001b[0m \u001b[0minclude_optimizer\u001b[0m\u001b[0;34m)\u001b[0m\u001b[0;34m\u001b[0m\u001b[0;34m\u001b[0m\u001b[0m\n\u001b[0m\u001b[1;32m   1091\u001b[0m \u001b[0;34m\u001b[0m\u001b[0m\n\u001b[1;32m   1092\u001b[0m     \u001b[0;32mdef\u001b[0m \u001b[0msave_weights\u001b[0m\u001b[0;34m(\u001b[0m\u001b[0mself\u001b[0m\u001b[0;34m,\u001b[0m \u001b[0mfilepath\u001b[0m\u001b[0;34m,\u001b[0m \u001b[0moverwrite\u001b[0m\u001b[0;34m=\u001b[0m\u001b[0;32mTrue\u001b[0m\u001b[0;34m)\u001b[0m\u001b[0;34m:\u001b[0m\u001b[0;34m\u001b[0m\u001b[0;34m\u001b[0m\u001b[0m\n",
            "\u001b[0;32m/usr/local/lib/python3.6/dist-packages/keras/engine/saving.py\u001b[0m in \u001b[0;36msave_model\u001b[0;34m(model, filepath, overwrite, include_optimizer)\u001b[0m\n\u001b[1;32m    380\u001b[0m \u001b[0;34m\u001b[0m\u001b[0m\n\u001b[1;32m    381\u001b[0m     \u001b[0;32mtry\u001b[0m\u001b[0;34m:\u001b[0m\u001b[0;34m\u001b[0m\u001b[0;34m\u001b[0m\u001b[0m\n\u001b[0;32m--> 382\u001b[0;31m         \u001b[0m_serialize_model\u001b[0m\u001b[0;34m(\u001b[0m\u001b[0mmodel\u001b[0m\u001b[0;34m,\u001b[0m \u001b[0mf\u001b[0m\u001b[0;34m,\u001b[0m \u001b[0minclude_optimizer\u001b[0m\u001b[0;34m)\u001b[0m\u001b[0;34m\u001b[0m\u001b[0;34m\u001b[0m\u001b[0m\n\u001b[0m\u001b[1;32m    383\u001b[0m     \u001b[0;32mfinally\u001b[0m\u001b[0;34m:\u001b[0m\u001b[0;34m\u001b[0m\u001b[0;34m\u001b[0m\u001b[0m\n\u001b[1;32m    384\u001b[0m         \u001b[0;32mif\u001b[0m \u001b[0mopened_new_file\u001b[0m\u001b[0;34m:\u001b[0m\u001b[0;34m\u001b[0m\u001b[0;34m\u001b[0m\u001b[0m\n",
            "\u001b[0;32m/usr/local/lib/python3.6/dist-packages/keras/engine/saving.py\u001b[0m in \u001b[0;36m_serialize_model\u001b[0;34m(model, f, include_optimizer)\u001b[0m\n\u001b[1;32m     95\u001b[0m         \u001b[0mlayer_group\u001b[0m \u001b[0;34m=\u001b[0m \u001b[0mmodel_weights_group\u001b[0m\u001b[0;34m[\u001b[0m\u001b[0mlayer\u001b[0m\u001b[0;34m.\u001b[0m\u001b[0mname\u001b[0m\u001b[0;34m]\u001b[0m\u001b[0;34m\u001b[0m\u001b[0;34m\u001b[0m\u001b[0m\n\u001b[1;32m     96\u001b[0m         \u001b[0msymbolic_weights\u001b[0m \u001b[0;34m=\u001b[0m \u001b[0mlayer\u001b[0m\u001b[0;34m.\u001b[0m\u001b[0mweights\u001b[0m\u001b[0;34m\u001b[0m\u001b[0;34m\u001b[0m\u001b[0m\n\u001b[0;32m---> 97\u001b[0;31m         \u001b[0mweight_values\u001b[0m \u001b[0;34m=\u001b[0m \u001b[0mK\u001b[0m\u001b[0;34m.\u001b[0m\u001b[0mbatch_get_value\u001b[0m\u001b[0;34m(\u001b[0m\u001b[0msymbolic_weights\u001b[0m\u001b[0;34m)\u001b[0m\u001b[0;34m\u001b[0m\u001b[0;34m\u001b[0m\u001b[0m\n\u001b[0m\u001b[1;32m     98\u001b[0m         \u001b[0mweight_names\u001b[0m \u001b[0;34m=\u001b[0m \u001b[0;34m[\u001b[0m\u001b[0;34m]\u001b[0m\u001b[0;34m\u001b[0m\u001b[0;34m\u001b[0m\u001b[0m\n\u001b[1;32m     99\u001b[0m         \u001b[0;32mfor\u001b[0m \u001b[0mi\u001b[0m\u001b[0;34m,\u001b[0m \u001b[0;34m(\u001b[0m\u001b[0mw\u001b[0m\u001b[0;34m,\u001b[0m \u001b[0mval\u001b[0m\u001b[0;34m)\u001b[0m \u001b[0;32min\u001b[0m \u001b[0menumerate\u001b[0m\u001b[0;34m(\u001b[0m\u001b[0mzip\u001b[0m\u001b[0;34m(\u001b[0m\u001b[0msymbolic_weights\u001b[0m\u001b[0;34m,\u001b[0m \u001b[0mweight_values\u001b[0m\u001b[0;34m)\u001b[0m\u001b[0;34m)\u001b[0m\u001b[0;34m:\u001b[0m\u001b[0;34m\u001b[0m\u001b[0;34m\u001b[0m\u001b[0m\n",
            "\u001b[0;32m/usr/local/lib/python3.6/dist-packages/keras/backend/tensorflow_backend.py\u001b[0m in \u001b[0;36mbatch_get_value\u001b[0;34m(ops)\u001b[0m\n\u001b[1;32m   2418\u001b[0m     \"\"\"\n\u001b[1;32m   2419\u001b[0m     \u001b[0;32mif\u001b[0m \u001b[0mops\u001b[0m\u001b[0;34m:\u001b[0m\u001b[0;34m\u001b[0m\u001b[0;34m\u001b[0m\u001b[0m\n\u001b[0;32m-> 2420\u001b[0;31m         \u001b[0;32mreturn\u001b[0m \u001b[0mget_session\u001b[0m\u001b[0;34m(\u001b[0m\u001b[0;34m)\u001b[0m\u001b[0;34m.\u001b[0m\u001b[0mrun\u001b[0m\u001b[0;34m(\u001b[0m\u001b[0mops\u001b[0m\u001b[0;34m)\u001b[0m\u001b[0;34m\u001b[0m\u001b[0;34m\u001b[0m\u001b[0m\n\u001b[0m\u001b[1;32m   2421\u001b[0m     \u001b[0;32melse\u001b[0m\u001b[0;34m:\u001b[0m\u001b[0;34m\u001b[0m\u001b[0;34m\u001b[0m\u001b[0m\n\u001b[1;32m   2422\u001b[0m         \u001b[0;32mreturn\u001b[0m \u001b[0;34m[\u001b[0m\u001b[0;34m]\u001b[0m\u001b[0;34m\u001b[0m\u001b[0;34m\u001b[0m\u001b[0m\n",
            "\u001b[0;32m/usr/local/lib/python3.6/dist-packages/tensorflow/python/client/session.py\u001b[0m in \u001b[0;36mrun\u001b[0;34m(self, fetches, feed_dict, options, run_metadata)\u001b[0m\n\u001b[1;32m    927\u001b[0m     \u001b[0;32mtry\u001b[0m\u001b[0;34m:\u001b[0m\u001b[0;34m\u001b[0m\u001b[0;34m\u001b[0m\u001b[0m\n\u001b[1;32m    928\u001b[0m       result = self._run(None, fetches, feed_dict, options_ptr,\n\u001b[0;32m--> 929\u001b[0;31m                          run_metadata_ptr)\n\u001b[0m\u001b[1;32m    930\u001b[0m       \u001b[0;32mif\u001b[0m \u001b[0mrun_metadata\u001b[0m\u001b[0;34m:\u001b[0m\u001b[0;34m\u001b[0m\u001b[0;34m\u001b[0m\u001b[0m\n\u001b[1;32m    931\u001b[0m         \u001b[0mproto_data\u001b[0m \u001b[0;34m=\u001b[0m \u001b[0mtf_session\u001b[0m\u001b[0;34m.\u001b[0m\u001b[0mTF_GetBuffer\u001b[0m\u001b[0;34m(\u001b[0m\u001b[0mrun_metadata_ptr\u001b[0m\u001b[0;34m)\u001b[0m\u001b[0;34m\u001b[0m\u001b[0;34m\u001b[0m\u001b[0m\n",
            "\u001b[0;32m/usr/local/lib/python3.6/dist-packages/tensorflow/python/client/session.py\u001b[0m in \u001b[0;36m_run\u001b[0;34m(self, handle, fetches, feed_dict, options, run_metadata)\u001b[0m\n\u001b[1;32m   1150\u001b[0m     \u001b[0;32mif\u001b[0m \u001b[0mfinal_fetches\u001b[0m \u001b[0;32mor\u001b[0m \u001b[0mfinal_targets\u001b[0m \u001b[0;32mor\u001b[0m \u001b[0;34m(\u001b[0m\u001b[0mhandle\u001b[0m \u001b[0;32mand\u001b[0m \u001b[0mfeed_dict_tensor\u001b[0m\u001b[0;34m)\u001b[0m\u001b[0;34m:\u001b[0m\u001b[0;34m\u001b[0m\u001b[0;34m\u001b[0m\u001b[0m\n\u001b[1;32m   1151\u001b[0m       results = self._do_run(handle, final_targets, final_fetches,\n\u001b[0;32m-> 1152\u001b[0;31m                              feed_dict_tensor, options, run_metadata)\n\u001b[0m\u001b[1;32m   1153\u001b[0m     \u001b[0;32melse\u001b[0m\u001b[0;34m:\u001b[0m\u001b[0;34m\u001b[0m\u001b[0;34m\u001b[0m\u001b[0m\n\u001b[1;32m   1154\u001b[0m       \u001b[0mresults\u001b[0m \u001b[0;34m=\u001b[0m \u001b[0;34m[\u001b[0m\u001b[0;34m]\u001b[0m\u001b[0;34m\u001b[0m\u001b[0;34m\u001b[0m\u001b[0m\n",
            "\u001b[0;32m/usr/local/lib/python3.6/dist-packages/tensorflow/python/client/session.py\u001b[0m in \u001b[0;36m_do_run\u001b[0;34m(self, handle, target_list, fetch_list, feed_dict, options, run_metadata)\u001b[0m\n\u001b[1;32m   1326\u001b[0m     \u001b[0;32mif\u001b[0m \u001b[0mhandle\u001b[0m \u001b[0;32mis\u001b[0m \u001b[0;32mNone\u001b[0m\u001b[0;34m:\u001b[0m\u001b[0;34m\u001b[0m\u001b[0;34m\u001b[0m\u001b[0m\n\u001b[1;32m   1327\u001b[0m       return self._do_call(_run_fn, feeds, fetches, targets, options,\n\u001b[0;32m-> 1328\u001b[0;31m                            run_metadata)\n\u001b[0m\u001b[1;32m   1329\u001b[0m     \u001b[0;32melse\u001b[0m\u001b[0;34m:\u001b[0m\u001b[0;34m\u001b[0m\u001b[0;34m\u001b[0m\u001b[0m\n\u001b[1;32m   1330\u001b[0m       \u001b[0;32mreturn\u001b[0m \u001b[0mself\u001b[0m\u001b[0;34m.\u001b[0m\u001b[0m_do_call\u001b[0m\u001b[0;34m(\u001b[0m\u001b[0m_prun_fn\u001b[0m\u001b[0;34m,\u001b[0m \u001b[0mhandle\u001b[0m\u001b[0;34m,\u001b[0m \u001b[0mfeeds\u001b[0m\u001b[0;34m,\u001b[0m \u001b[0mfetches\u001b[0m\u001b[0;34m)\u001b[0m\u001b[0;34m\u001b[0m\u001b[0;34m\u001b[0m\u001b[0m\n",
            "\u001b[0;32m/usr/local/lib/python3.6/dist-packages/tensorflow/python/client/session.py\u001b[0m in \u001b[0;36m_do_call\u001b[0;34m(self, fn, *args)\u001b[0m\n\u001b[1;32m   1332\u001b[0m   \u001b[0;32mdef\u001b[0m \u001b[0m_do_call\u001b[0m\u001b[0;34m(\u001b[0m\u001b[0mself\u001b[0m\u001b[0;34m,\u001b[0m \u001b[0mfn\u001b[0m\u001b[0;34m,\u001b[0m \u001b[0;34m*\u001b[0m\u001b[0margs\u001b[0m\u001b[0;34m)\u001b[0m\u001b[0;34m:\u001b[0m\u001b[0;34m\u001b[0m\u001b[0;34m\u001b[0m\u001b[0m\n\u001b[1;32m   1333\u001b[0m     \u001b[0;32mtry\u001b[0m\u001b[0;34m:\u001b[0m\u001b[0;34m\u001b[0m\u001b[0;34m\u001b[0m\u001b[0m\n\u001b[0;32m-> 1334\u001b[0;31m       \u001b[0;32mreturn\u001b[0m \u001b[0mfn\u001b[0m\u001b[0;34m(\u001b[0m\u001b[0;34m*\u001b[0m\u001b[0margs\u001b[0m\u001b[0;34m)\u001b[0m\u001b[0;34m\u001b[0m\u001b[0;34m\u001b[0m\u001b[0m\n\u001b[0m\u001b[1;32m   1335\u001b[0m     \u001b[0;32mexcept\u001b[0m \u001b[0merrors\u001b[0m\u001b[0;34m.\u001b[0m\u001b[0mOpError\u001b[0m \u001b[0;32mas\u001b[0m \u001b[0me\u001b[0m\u001b[0;34m:\u001b[0m\u001b[0;34m\u001b[0m\u001b[0;34m\u001b[0m\u001b[0m\n\u001b[1;32m   1336\u001b[0m       \u001b[0mmessage\u001b[0m \u001b[0;34m=\u001b[0m \u001b[0mcompat\u001b[0m\u001b[0;34m.\u001b[0m\u001b[0mas_text\u001b[0m\u001b[0;34m(\u001b[0m\u001b[0me\u001b[0m\u001b[0;34m.\u001b[0m\u001b[0mmessage\u001b[0m\u001b[0;34m)\u001b[0m\u001b[0;34m\u001b[0m\u001b[0;34m\u001b[0m\u001b[0m\n",
            "\u001b[0;32m/usr/local/lib/python3.6/dist-packages/tensorflow/python/client/session.py\u001b[0m in \u001b[0;36m_run_fn\u001b[0;34m(feed_dict, fetch_list, target_list, options, run_metadata)\u001b[0m\n\u001b[1;32m   1317\u001b[0m       \u001b[0mself\u001b[0m\u001b[0;34m.\u001b[0m\u001b[0m_extend_graph\u001b[0m\u001b[0;34m(\u001b[0m\u001b[0;34m)\u001b[0m\u001b[0;34m\u001b[0m\u001b[0;34m\u001b[0m\u001b[0m\n\u001b[1;32m   1318\u001b[0m       return self._call_tf_sessionrun(\n\u001b[0;32m-> 1319\u001b[0;31m           options, feed_dict, fetch_list, target_list, run_metadata)\n\u001b[0m\u001b[1;32m   1320\u001b[0m \u001b[0;34m\u001b[0m\u001b[0m\n\u001b[1;32m   1321\u001b[0m     \u001b[0;32mdef\u001b[0m \u001b[0m_prun_fn\u001b[0m\u001b[0;34m(\u001b[0m\u001b[0mhandle\u001b[0m\u001b[0;34m,\u001b[0m \u001b[0mfeed_dict\u001b[0m\u001b[0;34m,\u001b[0m \u001b[0mfetch_list\u001b[0m\u001b[0;34m)\u001b[0m\u001b[0;34m:\u001b[0m\u001b[0;34m\u001b[0m\u001b[0;34m\u001b[0m\u001b[0m\n",
            "\u001b[0;32m/usr/local/lib/python3.6/dist-packages/tensorflow/python/client/session.py\u001b[0m in \u001b[0;36m_call_tf_sessionrun\u001b[0;34m(self, options, feed_dict, fetch_list, target_list, run_metadata)\u001b[0m\n\u001b[1;32m   1405\u001b[0m     return tf_session.TF_SessionRun_wrapper(\n\u001b[1;32m   1406\u001b[0m         \u001b[0mself\u001b[0m\u001b[0;34m.\u001b[0m\u001b[0m_session\u001b[0m\u001b[0;34m,\u001b[0m \u001b[0moptions\u001b[0m\u001b[0;34m,\u001b[0m \u001b[0mfeed_dict\u001b[0m\u001b[0;34m,\u001b[0m \u001b[0mfetch_list\u001b[0m\u001b[0;34m,\u001b[0m \u001b[0mtarget_list\u001b[0m\u001b[0;34m,\u001b[0m\u001b[0;34m\u001b[0m\u001b[0;34m\u001b[0m\u001b[0m\n\u001b[0;32m-> 1407\u001b[0;31m         run_metadata)\n\u001b[0m\u001b[1;32m   1408\u001b[0m \u001b[0;34m\u001b[0m\u001b[0m\n\u001b[1;32m   1409\u001b[0m   \u001b[0;32mdef\u001b[0m \u001b[0m_call_tf_sessionprun\u001b[0m\u001b[0;34m(\u001b[0m\u001b[0mself\u001b[0m\u001b[0;34m,\u001b[0m \u001b[0mhandle\u001b[0m\u001b[0;34m,\u001b[0m \u001b[0mfeed_dict\u001b[0m\u001b[0;34m,\u001b[0m \u001b[0mfetch_list\u001b[0m\u001b[0;34m)\u001b[0m\u001b[0;34m:\u001b[0m\u001b[0;34m\u001b[0m\u001b[0;34m\u001b[0m\u001b[0m\n",
            "\u001b[0;31mKeyboardInterrupt\u001b[0m: "
          ]
        }
      ]
    }
  ]
}